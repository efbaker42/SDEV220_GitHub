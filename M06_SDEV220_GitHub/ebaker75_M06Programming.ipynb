{
 "cells": [
  {
   "cell_type": "markdown",
   "metadata": {},
   "source": [
    "Elizabeth Baker  \n",
    "SDEV 220 35N  \n",
    "27APR2024  \n",
    "Programming Assignment"
   ]
  },
  {
   "cell_type": "markdown",
   "metadata": {},
   "source": [
    "13.1  \n",
    "Write the current date as a string to the text file today.txt"
   ]
  },
  {
   "cell_type": "markdown",
   "metadata": {},
   "source": [
    "Done."
   ]
  },
  {
   "cell_type": "markdown",
   "metadata": {},
   "source": [
    "13.2  \n",
    "Read today.txt into the string today_string"
   ]
  },
  {
   "cell_type": "code",
   "execution_count": 30,
   "metadata": {},
   "outputs": [
    {
     "name": "stdout",
     "output_type": "stream",
     "text": [
      "27APR2024\n"
     ]
    }
   ],
   "source": [
    "import datetime\n",
    "\n",
    "t = open('today.txt', 'rt')\n",
    "today_string = t.read()\n",
    "t.close()\n",
    "print(today_string) #confirm file read correctly"
   ]
  },
  {
   "cell_type": "markdown",
   "metadata": {},
   "source": [
    "13.3  \n",
    "Parse the date from today_string"
   ]
  },
  {
   "cell_type": "code",
   "execution_count": 31,
   "metadata": {},
   "outputs": [
    {
     "data": {
      "text/plain": [
       "datetime.datetime(2024, 4, 27, 0, 0)"
      ]
     },
     "execution_count": 31,
     "metadata": {},
     "output_type": "execute_result"
    }
   ],
   "source": [
    "fmt = \"%d%b%Y\" #use %b since I used the abbreviation in my text file\n",
    "datetime.datetime.strptime(today_string, fmt) #need to use datetime.datetime to call strptime()"
   ]
  },
  {
   "cell_type": "markdown",
   "metadata": {},
   "source": [
    "15.1  \n",
    "Use multiprocessing to create three processes. Each should print the current time, then quit."
   ]
  },
  {
   "cell_type": "code",
   "execution_count": 32,
   "metadata": {},
   "outputs": [
    {
     "name": "stdout",
     "output_type": "stream",
     "text": [
      "It's now 2024-04-27 23:22:23.345265.\n",
      "Now it's 2024-04-27 23:22:23.346265.\n",
      "Now it's 2024-04-27 23:22:28.554888.\n",
      "Now it's 2024-04-27 23:22:34.029220.\n"
     ]
    }
   ],
   "source": [
    "from datetime import datetime\n",
    "#import time with an alias\n",
    "import time as tm #explicitly tell Python to use this version of time, or it will think time.sleep uses datetime's time modules\n",
    "import multiprocessing as mp\n",
    "\n",
    "def currentTime():\n",
    "    now = datetime.now()\n",
    "    print(f\"It's now {now}.\") #print current time\n",
    "\n",
    "def fiveLater():\n",
    "    now = datetime.now()\n",
    "    print(f\"Now it's {now}.\")\n",
    "    tm.sleep(5) #note that program will continue running 5 seconds after the last statement is printed because this line tells it to\n",
    "if __name__ == \"__main__\":\n",
    "    currentTime()\n",
    "    for n in range (3):\n",
    "            p = mp.Process(target = fiveLater())\n",
    "            p.start()"
   ]
  }
 ],
 "metadata": {
  "kernelspec": {
   "display_name": "Python 3",
   "language": "python",
   "name": "python3"
  },
  "language_info": {
   "codemirror_mode": {
    "name": "ipython",
    "version": 3
   },
   "file_extension": ".py",
   "mimetype": "text/x-python",
   "name": "python",
   "nbconvert_exporter": "python",
   "pygments_lexer": "ipython3",
   "version": "3.12.2"
  }
 },
 "nbformat": 4,
 "nbformat_minor": 2
}
