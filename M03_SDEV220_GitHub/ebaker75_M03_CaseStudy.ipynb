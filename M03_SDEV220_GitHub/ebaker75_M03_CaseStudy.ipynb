{
 "cells": [
  {
   "cell_type": "markdown",
   "metadata": {},
   "source": [
    "Elizabeth Baker\n",
    "SDEV 220 35N\n",
    "07APR2024\n",
    "Case Study\n",
    "Create an app that has a class for Vehicles and a class for Car. Allow a user to input data about their vehicle type (stored in the vehicle super class) and output this data about the vehicle."
   ]
  },
  {
   "cell_type": "code",
   "execution_count": 5,
   "metadata": {},
   "outputs": [],
   "source": [
    "class Vehicle(): #create superclass with attribute type\n",
    "    def __init__(self,type):\n",
    "        self.type = type"
   ]
  },
  {
   "cell_type": "code",
   "execution_count": 6,
   "metadata": {},
   "outputs": [
    {
     "name": "stdout",
     "output_type": "stream",
     "text": [
      "Broomstick\n"
     ]
    }
   ],
   "source": [
    "#test Vehicle class works as intended\n",
    "vehicle = Vehicle(\"Broomstick\")\n",
    "print(vehicle.type)"
   ]
  },
  {
   "cell_type": "code",
   "execution_count": 26,
   "metadata": {},
   "outputs": [],
   "source": [
    "class Car(Vehicle):\n",
    "    def __init__(self,type,year,make,model,numDoors,typeRoof):\n",
    "        super(Car,self).__init__(type)\n",
    "        self.year = year\n",
    "        self.make = make\n",
    "        self.model = model\n",
    "        self.numDoors = numDoors\n",
    "        self.typeRoof = typeRoof\n",
    "    \n",
    "    def printData(self,type,year,make,model,numDoors,typeRoof):\n",
    "        print(f\"Vehicle type is {type}\")\n",
    "        print(f\"Year: {year}\")\n",
    "        print(f\"Make: {make}\")\n",
    "        print(f\"Model: {model}\")\n",
    "        print(f\"Number of doors: {numDoors}\")\n",
    "        print(f\"Type of Roof: {typeRoof}\")"
   ]
  },
  {
   "cell_type": "code",
   "execution_count": 27,
   "metadata": {},
   "outputs": [
    {
     "name": "stdout",
     "output_type": "stream",
     "text": [
      "Broomstick\n"
     ]
    }
   ],
   "source": [
    "#test Car class works as intended\n",
    "car = Car(\"Broomstick\",\"2020\",\"Toyota\",\"Corolla\",\"4\",\"Sunroof\")\n",
    "print(vehicle.type)"
   ]
  }
 ],
 "metadata": {
  "kernelspec": {
   "display_name": "Python 3",
   "language": "python",
   "name": "python3"
  },
  "language_info": {
   "codemirror_mode": {
    "name": "ipython",
    "version": 3
   },
   "file_extension": ".py",
   "mimetype": "text/x-python",
   "name": "python",
   "nbconvert_exporter": "python",
   "pygments_lexer": "ipython3",
   "version": "3.12.2"
  }
 },
 "nbformat": 4,
 "nbformat_minor": 2
}
