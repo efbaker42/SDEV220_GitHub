{
 "cells": [
  {
   "cell_type": "markdown",
   "metadata": {},
   "source": [
    "Elizabeth Baker<br>\n",
    "08APR2024<br>\n",
    "SDEV 220 35N<br>\n",
    "Functional Vs. OOP Programming Tutorial"
   ]
  },
  {
   "cell_type": "markdown",
   "metadata": {},
   "source": [
    "OOP Programming Tutorial Instructions:<br>\n",
    "Read Geeks for Geeks article: https://www.geeksforgeeks.org/python-classes-and-objects/<br>\n",
    "Complete this exercise: https://practice.geeksforgeeks.org/problems/sort-an-array-of-0s-1s-and-2s4231/1?utm_source=geeksforgeeks&utm_medium=article_practice_tab&utm_campaign=article_practice_tab"
   ]
  },
  {
   "cell_type": "code",
   "execution_count": null,
   "metadata": {},
   "outputs": [],
   "source": [
    "#Much like last semester, I find sandboxes like this confusing as a whole.\n",
    "#Are they using a class so that they can define instance variables on their end, and use those to test the code?\n",
    "class Solution:\n",
    "    \n",
    "    #Function to sort an array of 0s, 1s, and 2s.\n",
    "    def sort012(self,arr,n):\n",
    "        arr.sort() #I checked out the Python documentation and this seemed like the most efficient solution to me."
   ]
  },
  {
   "cell_type": "markdown",
   "metadata": {},
   "source": [
    "Functional Programming Tutorial instructions:<br>\n",
    "Read https://www.geeksforgeeks.org/python-lambda/<br>\n",
    "Complete tutorial: https://practice.geeksforgeeks.org/problems/binary-search-1587115620/1?utm_source=geeksforgeeks&utm_medium=article_practice_tab&utm_campaign=article_practice_tab"
   ]
  },
  {
   "cell_type": "code",
   "execution_count": null,
   "metadata": {},
   "outputs": [],
   "source": [
    "#this code exceeded the time limit, but was the best I could come up with on my own\n",
    "class Solution:\t\n",
    "\tdef binarysearch(self, arr, n, k):\n",
    "\t\tlow = arr[0]\n",
    "\t\thigh = arr[n-1]\n",
    "\t\tmidpoint = (low + high) // 2 #as discussed in class\n",
    "\t\twhile k in arr: #if k can't be in arr, move along\n",
    "\t\t    if k == midpoint:\n",
    "\t\t        return arr.index(midpoint) #found the .index method on StackExchange(https://stackoverflow.com/questions/1762484/how-to-find-the-position-of-an-element-in-a-list-in-python)\n",
    "\t\t    elif k < midpoint:\n",
    "\t\t        low = arr[0]\n",
    "\t\t        high = midpoint\n",
    "\t\t        midpoint = (low + high) // 2\n",
    "\t\t    elif k > midpoint:\n",
    "\t\t        low = midpoint\n",
    "\t\t        high = arr[n-1]\n",
    "\t\t        midpoint = (low + high) // 2\n",
    "\t\t    else:\n",
    "\t\t        return(-1) #k is not equal to, less than, or greater than midpoint because it's just not there\n",
    "\t\telse:\n",
    "\t\t    return(-1)"
   ]
  }
 ],
 "metadata": {
  "language_info": {
   "name": "python"
  }
 },
 "nbformat": 4,
 "nbformat_minor": 2
}
