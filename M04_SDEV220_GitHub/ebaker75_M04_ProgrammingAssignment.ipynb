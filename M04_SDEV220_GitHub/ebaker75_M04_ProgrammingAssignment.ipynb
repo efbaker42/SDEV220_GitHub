{
 "cells": [
  {
   "cell_type": "markdown",
   "metadata": {},
   "source": [
    "Elizabeth Baker<br>\n",
    "SDEV 220 35N<br>\n",
    "10APR2024<br>\n",
    "M04 Programming Assignment"
   ]
  },
  {
   "cell_type": "markdown",
   "metadata": {},
   "source": [
    "11.1<br>\n",
    "Create a file called zoo.py which has a function that prints 'Open 9-5 daily'<br>\n",
    "Import the zoo file and call the function"
   ]
  },
  {
   "cell_type": "code",
   "execution_count": 5,
   "metadata": {},
   "outputs": [
    {
     "name": "stdout",
     "output_type": "stream",
     "text": [
      "Open 9-5 daily\n"
     ]
    }
   ],
   "source": [
    "import zoo\n",
    "\n",
    "zoo.hours()"
   ]
  },
  {
   "cell_type": "markdown",
   "metadata": {},
   "source": [
    "11.2<br>\n",
    "Import zoo.py as menagerie and call its function"
   ]
  },
  {
   "cell_type": "code",
   "execution_count": 6,
   "metadata": {},
   "outputs": [
    {
     "name": "stdout",
     "output_type": "stream",
     "text": [
      "Open 9-5 daily\n"
     ]
    }
   ],
   "source": [
    "import zoo as menagerie\n",
    "\n",
    "menagerie.hours()"
   ]
  },
  {
   "cell_type": "markdown",
   "metadata": {},
   "source": [
    "16.8<br>\n",
    "Use sqlalchemy module to select and print the title column from the books table in alphabetical order;<br>\n",
    "refer to previous questions to complete this."
   ]
  },
  {
   "cell_type": "code",
   "execution_count": 32,
   "metadata": {},
   "outputs": [
    {
     "ename": "OperationalError",
     "evalue": "table books already exists",
     "output_type": "error",
     "traceback": [
      "\u001b[1;31m---------------------------------------------------------------------------\u001b[0m",
      "\u001b[1;31mOperationalError\u001b[0m                          Traceback (most recent call last)",
      "Cell \u001b[1;32mIn[32], line 7\u001b[0m\n\u001b[0;32m      4\u001b[0m curs \u001b[38;5;241m=\u001b[39m conn\u001b[38;5;241m.\u001b[39mcursor() \u001b[38;5;66;03m#create cursor, which moves and iterates through database\u001b[39;00m\n\u001b[0;32m      5\u001b[0m \u001b[38;5;66;03m#the cursor will make components of the table\u001b[39;00m\n\u001b[0;32m      6\u001b[0m \u001b[38;5;66;03m#I don't think a title is a great primary key, but it will work for the data in 'books2.csv'\u001b[39;00m\n\u001b[1;32m----> 7\u001b[0m \u001b[43mcurs\u001b[49m\u001b[38;5;241;43m.\u001b[39;49m\u001b[43mexecute\u001b[49m\u001b[43m(\u001b[49m\u001b[38;5;124;43m'''\u001b[39;49m\u001b[38;5;124;43mCREATE TABLE books\u001b[39;49m\n\u001b[0;32m      8\u001b[0m \u001b[38;5;124;43m             (title TEXT PRIMARY KEY,\u001b[39;49m\n\u001b[0;32m      9\u001b[0m \u001b[38;5;124;43m             author TEXT,\u001b[39;49m\n\u001b[0;32m     10\u001b[0m \u001b[38;5;124;43m             year INTEGER)\u001b[39;49m\u001b[38;5;124;43m'''\u001b[39;49m\u001b[43m)\u001b[49m\n",
      "\u001b[1;31mOperationalError\u001b[0m: table books already exists"
     ]
    }
   ],
   "source": [
    "#from 16.4\n",
    "import sqlite3\n",
    "conn = sqlite3.connect('books.db') #create database\n",
    "curs = conn.cursor() #create cursor, which moves and iterates through database\n",
    "#the cursor will make components of the table\n",
    "#I don't think a title is a great primary key, but it will work for the data in 'books2.csv'\n",
    "curs.execute('''CREATE TABLE books\n",
    "             (title TEXT PRIMARY KEY,\n",
    "             author TEXT,\n",
    "             year INTEGER)''')\n",
    "\n"
   ]
  },
  {
   "cell_type": "code",
   "execution_count": 30,
   "metadata": {},
   "outputs": [
    {
     "ename": "IntegrityError",
     "evalue": "UNIQUE constraint failed: books.title",
     "output_type": "error",
     "traceback": [
      "\u001b[1;31m---------------------------------------------------------------------------\u001b[0m",
      "\u001b[1;31mIntegrityError\u001b[0m                            Traceback (most recent call last)",
      "Cell \u001b[1;32mIn[30], line 9\u001b[0m\n\u001b[0;32m      6\u001b[0m     dr \u001b[38;5;241m=\u001b[39m csv\u001b[38;5;241m.\u001b[39mDictReader(fileIn) \u001b[38;5;66;03m#read the csv file using the DictReader function\u001b[39;00m\n\u001b[0;32m      7\u001b[0m     to_db \u001b[38;5;241m=\u001b[39m [(i[\u001b[38;5;124m'\u001b[39m\u001b[38;5;124mtitle\u001b[39m\u001b[38;5;124m'\u001b[39m],i[\u001b[38;5;124m'\u001b[39m\u001b[38;5;124mauthor\u001b[39m\u001b[38;5;124m'\u001b[39m],i[\u001b[38;5;124m'\u001b[39m\u001b[38;5;124myear\u001b[39m\u001b[38;5;124m'\u001b[39m]) \u001b[38;5;28;01mfor\u001b[39;00m i \u001b[38;5;129;01min\u001b[39;00m dr] \u001b[38;5;66;03m#read each row and pass it to the variable to_db as a list of tuples\u001b[39;00m\n\u001b[1;32m----> 9\u001b[0m \u001b[43mcurs\u001b[49m\u001b[38;5;241;43m.\u001b[39;49m\u001b[43mexecutemany\u001b[49m\u001b[43m(\u001b[49m\u001b[38;5;124;43m\"\u001b[39;49m\u001b[38;5;124;43mINSERT INTO books (title,author,year) VALUES (?,?,?);\u001b[39;49m\u001b[38;5;124;43m\"\u001b[39;49m\u001b[43m,\u001b[49m\u001b[43m \u001b[49m\u001b[43mto_db\u001b[49m\u001b[43m)\u001b[49m \u001b[38;5;66;03m#insert each tuple from to_db and insert it into the database one at a time as a row\u001b[39;00m\n\u001b[0;32m     10\u001b[0m conn\u001b[38;5;241m.\u001b[39mcommit()\n\u001b[0;32m     11\u001b[0m conn\u001b[38;5;241m.\u001b[39mclose()\n",
      "\u001b[1;31mIntegrityError\u001b[0m: UNIQUE constraint failed: books.title"
     ]
    }
   ],
   "source": [
    "#from 16.5\n",
    "import csv #import csv module so Python knows what to do\n",
    "#I had difficulty understanding how to put together the CSV and SQLite sections of the textbook, so I referenced https://stackoverflow.com/questions/2887878/importing-a-csv-file-into-a-sqlite3-database-table-using-python\n",
    "\n",
    "with open('books2.csv','r') as fileIn: #context manager\n",
    "    dr = csv.DictReader(fileIn) #read the csv file using the DictReader function\n",
    "    to_db = [(i['title'],i['author'],i['year']) for i in dr] #read each row and pass it to the variable to_db as a list of tuples\n",
    "\n",
    "curs.executemany(\"INSERT INTO books (title,author,year) VALUES (?,?,?);\", to_db) #insert each tuple from to_db and insert it into the database one at a time as a row\n",
    "conn.commit()\n",
    "#left connection open, but had difficulty in 16.8\n"
   ]
  },
  {
   "cell_type": "code",
   "execution_count": 33,
   "metadata": {},
   "outputs": [],
   "source": [
    "conn.close() #closed connection properly after completing 16.6 and 16.7, but before completing 16.8"
   ]
  },
  {
   "cell_type": "code",
   "execution_count": 14,
   "metadata": {},
   "outputs": [
    {
     "name": "stdout",
     "output_type": "stream",
     "text": [
      "[('Perdido Street Station',), ('Small Gods',), ('The Spellman Files',), ('The Weirdstone of Brisingamen',), ('Thud!',)]\n"
     ]
    }
   ],
   "source": [
    "#from 16.6; verify that values were imported as expected\n",
    "curs.execute('SELECT title from books ORDER BY title') #curs.execute lets you use SQL functions\n",
    "titles = curs.fetchall() #\"fetches\" results from the execute function and passes them to a variable that can be printed or otherwise manipulated by Python\n",
    "print(titles) #it includes the comma in the results, but it prints the titles in the correct order"
   ]
  },
  {
   "cell_type": "code",
   "execution_count": 34,
   "metadata": {},
   "outputs": [
    {
     "ename": "ProgrammingError",
     "evalue": "Cannot operate on a closed database.",
     "output_type": "error",
     "traceback": [
      "\u001b[1;31m---------------------------------------------------------------------------\u001b[0m",
      "\u001b[1;31mProgrammingError\u001b[0m                          Traceback (most recent call last)",
      "Cell \u001b[1;32mIn[34], line 2\u001b[0m\n\u001b[0;32m      1\u001b[0m \u001b[38;5;66;03m#from 16.7; verify that values were imported as expected again\u001b[39;00m\n\u001b[1;32m----> 2\u001b[0m \u001b[43mcurs\u001b[49m\u001b[38;5;241;43m.\u001b[39;49m\u001b[43mexecute\u001b[49m\u001b[43m(\u001b[49m\u001b[38;5;124;43m'\u001b[39;49m\u001b[38;5;124;43mSELECT * from books ORDER BY year\u001b[39;49m\u001b[38;5;124;43m'\u001b[39;49m\u001b[43m)\u001b[49m\n\u001b[0;32m      3\u001b[0m pubDate \u001b[38;5;241m=\u001b[39m curs\u001b[38;5;241m.\u001b[39mfetchall()\n\u001b[0;32m      4\u001b[0m \u001b[38;5;28mprint\u001b[39m(pubDate) \u001b[38;5;66;03m#there's an issue with Mieville's name's display; otherwise results are printed in correct order\u001b[39;00m\n",
      "\u001b[1;31mProgrammingError\u001b[0m: Cannot operate on a closed database."
     ]
    }
   ],
   "source": [
    "#from 16.7; verify that values were imported as expected again\n",
    "curs.execute('SELECT * from books ORDER BY year')\n",
    "pubDate = curs.fetchall()\n",
    "print(pubDate) #there's an issue with Mieville's name's display; otherwise results are printed in correct order"
   ]
  },
  {
   "cell_type": "code",
   "execution_count": 37,
   "metadata": {},
   "outputs": [
    {
     "data": {
      "text/plain": [
       "sqlalchemy.engine.base.Engine"
      ]
     },
     "execution_count": 37,
     "metadata": {},
     "output_type": "execute_result"
    }
   ],
   "source": [
    "#finally 6.8\n",
    "#pip install sqlalchemy\n",
    "import sqlalchemy as sa\n",
    "connSA = sa.create_engine('sqlite:///books.db') #create an engine and connect to the database using a new connection\n",
    "type(connSA)\n",
    "#help(connSA.execute) #AttributeError: 'Engine' object has no attribute 'execute'\n",
    "#connSA.execute()\n",
    "#titleSA = conn.execute('SELECT title from books ORDER BY title')\n",
    "#print(titleSA)"
   ]
  }
 ],
 "metadata": {
  "kernelspec": {
   "display_name": "Python 3",
   "language": "python",
   "name": "python3"
  },
  "language_info": {
   "codemirror_mode": {
    "name": "ipython",
    "version": 3
   },
   "file_extension": ".py",
   "mimetype": "text/x-python",
   "name": "python",
   "nbconvert_exporter": "python",
   "pygments_lexer": "ipython3",
   "version": "3.12.2"
  }
 },
 "nbformat": 4,
 "nbformat_minor": 2
}
